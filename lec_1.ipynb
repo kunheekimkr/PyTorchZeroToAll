{
 "cells": [
  {
   "cell_type": "markdown",
   "metadata": {},
   "source": [
    "# Lecture 01: Overview\n",
    "\n",
    "## Goals of the course\n",
    "\n",
    "- Basic Understanding of ML & DL by implementing each concepts using PyTorch\n",
    "\n",
    "## What is Machine Learning?\n",
    "\n",
    "First, What is Human Intelligence?\n",
    "- Process of Inferring  & Prediction using some Information\n",
    "\n",
    "Machine Learning -> Implement the same Process using a Machine\n",
    "\n",
    "Machine needs lots of training\n",
    "\n",
    "Train a model using labeled dataset -> make a prediction from test dataset\n",
    "\n",
    "## Then, What is The difference of AI, ML, and DL?\n",
    "\n",
    "AI - anything that has some sort of intelligence\n",
    "ML - a kind of approach for AI\n",
    "DL- an group of ML algorithm that uses neural nets\n",
    "\n",
    "## Why we care?\n",
    "\n",
    "Rule based systems: Input -> Hand-designed program -> output\n",
    "ML: Input -> Hand-designed features -> Mapping from features -> output\n",
    "DL: input -> Simple features -> Additional layers of more abstract features -> Mapping from features -> output\n",
    "\n",
    "DL can automatically select good features and use them to produce reasonable output\n",
    "\n",
    "## Exercise 1-1: Install PyTorch on Your computer"
   ]
  },
  {
   "cell_type": "code",
   "execution_count": null,
   "metadata": {},
   "outputs": [],
   "source": [
    "pip3 install torch torchvision torchaudio"
   ]
  },
  {
   "cell_type": "code",
   "execution_count": 1,
   "metadata": {},
   "outputs": [
    {
     "name": "stdout",
     "output_type": "stream",
     "text": [
      "1.10.2\n"
     ]
    }
   ],
   "source": [
    "import torch\n",
    "print(torch.__version__)"
   ]
  },
  {
   "cell_type": "markdown",
   "metadata": {},
   "source": [
    "## Topics We Will Cover\n",
    "\n",
    "- Linear, Logistic, softmax models\n",
    "- DNN: Deep Neural Net\n",
    "- CNN: Convolutional Neural Net\n",
    "- RNN: Recurrent Neaural Net"
   ]
  }
 ],
 "metadata": {
  "interpreter": {
   "hash": "b0fa6594d8f4cbf19f97940f81e996739fb7646882a419484c72d19e05852a7e"
  },
  "kernelspec": {
   "display_name": "Python 3.9.10 64-bit",
   "language": "python",
   "name": "python3"
  },
  "language_info": {
   "codemirror_mode": {
    "name": "ipython",
    "version": 3
   },
   "file_extension": ".py",
   "mimetype": "text/x-python",
   "name": "python",
   "nbconvert_exporter": "python",
   "pygments_lexer": "ipython3",
   "version": "3.9.10"
  },
  "orig_nbformat": 4
 },
 "nbformat": 4,
 "nbformat_minor": 2
}
