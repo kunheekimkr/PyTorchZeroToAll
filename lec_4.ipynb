{
 "cells": [
  {
   "cell_type": "markdown",
   "metadata": {},
   "source": [
    "# Lecture 4: Back-propagation\n",
    "\n",
    "How do we compute the gradient in a complicated network?\n",
    "\n",
    "Better way = Computational graph + chain rule\n",
    "\n",
    "## Chain Rule\n",
    "\n",
    "$$ \\frac{df}{dx} =  \\frac{df}{dg} \\frac{dg}{dx} $$\n",
    "\n",
    "\n",
    "## Backward propagation\n",
    "\n",
    "Given function f(x,y) = z\n",
    "\n",
    "From the function,\n",
    "\n",
    "$$ \\frac{\\partial z}{\\partial x} $$\n",
    "$$ \\frac{\\partial z}{\\partial y} $$ \n",
    "\n",
    "Can be calculated.\n",
    "Therefore, after given $$ \\frac{\\partial L}{\\partial z} $$\n",
    "The following can be calculated\n",
    "\n",
    "$$ \\frac{\\partial L}{\\partial x} = \\frac{\\partial L}{\\partial z} * \\frac{\\partial z}{\\partial x} $$\n",
    "$$ \\frac{\\partial L}{\\partial y} = \\frac{\\partial L}{\\partial z} * \\frac{\\partial z}{\\partial y} $$\n",
    "\n",
    "This process is called backward propagation.\n",
    "\n",
    "\n",
    "## Example\n",
    "\n",
    "$$ f: \\hat{y} = x * w $$\n",
    "$$ loss = (\\hat{y} - y)^2 = (x*w -y)^2 $$\n",
    "\n",
    "Let \n",
    "$$ \\hat{y} - y = s $$\n",
    "$$ loss = s^2 $$\n",
    "\n",
    "Backward Propagation\n",
    "\n",
    "$$ \\frac{\\partial loss}{\\partial s} = \\frac{\\partial s^2}{\\partial s} =2s $$\n",
    "$$ \\frac{\\partial s}{\\partial \\hat{y}} = \\frac{\\partial (\\hat{y}-y)}{\\partial \\hat{y}} =1 $$\n",
    "$$ \\frac{\\partial \\hat{y}}{\\partial w}= \\frac{\\partial xw}{\\partial w} = x$$\n",
    "$$ \\therefore \\frac{\\partial loss}{\\partial w} = \\frac{\\partial loss}{\\partial s} \\frac{\\partial s}{\\partial \\hat{y}} \\frac{\\partial \\hat{y}}{\\partial w} = 2sx $$\n",
    "\n",
    "For example, when x=2, y=4, w=1 :\n",
    "\n",
    "$$ \\frac{\\partial loss}{\\partial w} = -8 $$\n"
   ]
  },
  {
   "cell_type": "markdown",
   "metadata": {},
   "source": [
    "## Pytorch: Variable"
   ]
  },
  {
   "cell_type": "code",
   "execution_count": 9,
   "metadata": {},
   "outputs": [],
   "source": [
    "import torch\n",
    "from torch.autograd import Variable\n",
    "\n",
    "x_data = [1.0, 2.0, 3.0]\n",
    "y_data = [2.0, 4.0, 6.0]\n",
    "\n",
    "w= Variable(torch.Tensor([1.0]), requires_grad=True) #Any Random Value"
   ]
  },
  {
   "cell_type": "code",
   "execution_count": 10,
   "metadata": {},
   "outputs": [
    {
     "name": "stdout",
     "output_type": "stream",
     "text": [
      "Predict (before training 4 tensor(4.)\n",
      "\tgrad:  1.0 2.0 tensor(-2.)\n",
      "\tgrad:  2.0 4.0 tensor(-7.8400)\n",
      "\tgrad:  3.0 6.0 tensor(-16.2288)\n",
      "progress: 0 tensor(7.3159)\n",
      "\tgrad:  1.0 2.0 tensor(-1.4786)\n",
      "\tgrad:  2.0 4.0 tensor(-5.7962)\n",
      "\tgrad:  3.0 6.0 tensor(-11.9981)\n",
      "progress: 1 tensor(3.9988)\n",
      "\tgrad:  1.0 2.0 tensor(-1.0932)\n",
      "\tgrad:  2.0 4.0 tensor(-4.2852)\n",
      "\tgrad:  3.0 6.0 tensor(-8.8704)\n",
      "progress: 2 tensor(2.1857)\n",
      "\tgrad:  1.0 2.0 tensor(-0.8082)\n",
      "\tgrad:  2.0 4.0 tensor(-3.1681)\n",
      "\tgrad:  3.0 6.0 tensor(-6.5580)\n",
      "progress: 3 tensor(1.1946)\n",
      "\tgrad:  1.0 2.0 tensor(-0.5975)\n",
      "\tgrad:  2.0 4.0 tensor(-2.3422)\n",
      "\tgrad:  3.0 6.0 tensor(-4.8484)\n",
      "progress: 4 tensor(0.6530)\n",
      "\tgrad:  1.0 2.0 tensor(-0.4417)\n",
      "\tgrad:  2.0 4.0 tensor(-1.7316)\n",
      "\tgrad:  3.0 6.0 tensor(-3.5845)\n",
      "progress: 5 tensor(0.3569)\n",
      "\tgrad:  1.0 2.0 tensor(-0.3266)\n",
      "\tgrad:  2.0 4.0 tensor(-1.2802)\n",
      "\tgrad:  3.0 6.0 tensor(-2.6500)\n",
      "progress: 6 tensor(0.1951)\n",
      "\tgrad:  1.0 2.0 tensor(-0.2414)\n",
      "\tgrad:  2.0 4.0 tensor(-0.9465)\n",
      "\tgrad:  3.0 6.0 tensor(-1.9592)\n",
      "progress: 7 tensor(0.1066)\n",
      "\tgrad:  1.0 2.0 tensor(-0.1785)\n",
      "\tgrad:  2.0 4.0 tensor(-0.6997)\n",
      "\tgrad:  3.0 6.0 tensor(-1.4485)\n",
      "progress: 8 tensor(0.0583)\n",
      "\tgrad:  1.0 2.0 tensor(-0.1320)\n",
      "\tgrad:  2.0 4.0 tensor(-0.5173)\n",
      "\tgrad:  3.0 6.0 tensor(-1.0709)\n",
      "progress: 9 tensor(0.0319)\n",
      "predict (after training) 4 tensor(7.8049)\n"
     ]
    }
   ],
   "source": [
    "#our model forward pass\n",
    "def forward(x):\n",
    "    return x*w\n",
    "\n",
    "#Loss function\n",
    "def loss (x,y):\n",
    "    y_pred = forward(x)\n",
    "    return (y_pred-y) * (y_pred -y)\n",
    "\n",
    "#Before trainging\n",
    "print(\"Predict (before training\", 4, forward(4).data[0])\n",
    "\n",
    "#Training loop\n",
    "for epoch in range(10):\n",
    "    for x_val, y_val in zip(x_data, y_data):\n",
    "        l = loss(x_val, y_val)\n",
    "        l.backward()\n",
    "        print(\"\\tgrad: \", x_val, y_val, w.grad.data[0])\n",
    "        w.data = w.data -0.01 * w.grad.data\n",
    "\n",
    "        #Manually zero the gradients after updating weights\n",
    "        w.grad.data.zero_()\n",
    "    print(\"progress:\",epoch, l.data[0])\n",
    "\n",
    "#After training\n",
    "print(\"predict (after training)\",4, forward(4).data[0])\n"
   ]
  }
 ],
 "metadata": {
  "interpreter": {
   "hash": "b0fa6594d8f4cbf19f97940f81e996739fb7646882a419484c72d19e05852a7e"
  },
  "kernelspec": {
   "display_name": "Python 3.9.10 64-bit",
   "language": "python",
   "name": "python3"
  },
  "language_info": {
   "codemirror_mode": {
    "name": "ipython",
    "version": 3
   },
   "file_extension": ".py",
   "mimetype": "text/x-python",
   "name": "python",
   "nbconvert_exporter": "python",
   "pygments_lexer": "ipython3",
   "version": "3.9.10"
  },
  "orig_nbformat": 4
 },
 "nbformat": 4,
 "nbformat_minor": 2
}
